{
 "cells": [
  {
   "cell_type": "markdown",
   "metadata": {},
   "source": [
    "# <center> Honolulu Exploratory Climate Analysis </center>\n",
    "![BeautifulBeach](https://ohmygosh2009.files.wordpress.com/2011/06/tropical-for-vacation-climate-blog.jpg)"
   ]
  },
  {
   "cell_type": "code",
   "execution_count": 1,
   "metadata": {},
   "outputs": [],
   "source": [
    "%matplotlib inline\n",
    "from matplotlib import style\n",
    "style.use('fivethirtyeight')\n",
    "import matplotlib.pyplot as plt\n",
    "import numpy as np\n",
    "import pandas as pd\n",
    "import datetime as dt\n",
    "\n",
    "from pprint import pprint #pretty print\n",
    "\n",
    "h1_line = '–'*25\n",
    "degree_sign= u'\\N{DEGREE SIGN}' #degree symbol to be used for printing;"
   ]
  },
  {
   "cell_type": "code",
   "execution_count": 2,
   "metadata": {},
   "outputs": [
    {
     "name": "stdout",
     "output_type": "stream",
     "text": [
      "Plot Dimensions ⟶ (width = 6.0) x (height = 4.0)\n"
     ]
    }
   ],
   "source": [
    "# ––––––––––––––––––––––––––––––––––––- * CHECK PLOT DIMENSIONS * ––––––––––––––––––––––––––––––––––––-\n",
    "plt_dimensions = plt.rcParams[\"figure.figsize\"] \n",
    "print(f\"Plot Dimensions ⟶ (width = {plt_dimensions[0]}) x (height = {plt_dimensions[1]})\")"
   ]
  },
  {
   "cell_type": "code",
   "execution_count": 3,
   "metadata": {},
   "outputs": [
    {
     "name": "stdout",
     "output_type": "stream",
     "text": [
      "Plot Dimensions ⟶ (width = 16.0) x (height = 9.0)\n"
     ]
    }
   ],
   "source": [
    "# ––––––––––––––––––––––––––––––––––––- * SETTING NEW PLOT DIMENSIONS * ––––––––––––––––––––––––––––––––––––-\n",
    "plt_dimensions[0] = 16.0                          #set width\n",
    "plt_dimensions[1] = 9.0                           #set height\n",
    "plt.rcParams[\"figure.figsize\"] = plt_dimensions #\n",
    "print(f\"Plot Dimensions ⟶ (width = {plt_dimensions[0]}) x (height = {plt_dimensions[1]})\")"
   ]
  },
  {
   "cell_type": "markdown",
   "metadata": {},
   "source": [
    "## <center> Reflect Tables into SQLAlchemy ORM </center>"
   ]
  },
  {
   "cell_type": "code",
   "execution_count": 4,
   "metadata": {},
   "outputs": [],
   "source": [
    "# Python SQL toolkit and Object Relational Mapper\n",
    "import sqlalchemy\n",
    "from sqlalchemy.ext.automap import automap_base\n",
    "from sqlalchemy.orm import Session\n",
    "from sqlalchemy import create_engine, func"
   ]
  },
  {
   "cell_type": "code",
   "execution_count": 5,
   "metadata": {},
   "outputs": [
    {
     "data": {
      "text/plain": [
       "['measurement', 'station']"
      ]
     },
     "execution_count": 5,
     "metadata": {},
     "output_type": "execute_result"
    }
   ],
   "source": [
    "# Create enginge connection to sqlite DB, automap into local model, reflect tables, & view classes \n",
    "engine = create_engine(\"sqlite:///Resources/hawaii.sqlite\")\n",
    "Base = automap_base() # reflect an existing database into a new model\n",
    "Base.prepare(engine, reflect=True) # reflect the tables\n",
    "Base.classes.keys() # We can view all of the classes that automap found"
   ]
  },
  {
   "cell_type": "code",
   "execution_count": 6,
   "metadata": {},
   "outputs": [],
   "source": [
    "# References to each table\n",
    "Measurement = Base.classes.measurement\n",
    "Station = Base.classes.station"
   ]
  },
  {
   "cell_type": "code",
   "execution_count": 7,
   "metadata": {},
   "outputs": [],
   "source": [
    "# Create our session (link) from Python to the DB\n",
    "session = Session(engine)"
   ]
  },
  {
   "cell_type": "markdown",
   "metadata": {},
   "source": [
    "## <center> Precipication Analysis </center>"
   ]
  },
  {
   "cell_type": "code",
   "execution_count": 8,
   "metadata": {},
   "outputs": [
    {
     "name": "stdout",
     "output_type": "stream",
     "text": [
      "The earliest date with available data is ('2010-01-01',) & the latest date is ('2017-08-23',)\n"
     ]
    }
   ],
   "source": [
    "last_date = session.query(Measurement.date).\\\n",
    "            order_by(Measurement.date.desc()).\\\n",
    "            first()\n",
    "first_date = session.query(Measurement.date).\\\n",
    "            order_by(Measurement.date.asc()).\\\n",
    "            first()\n",
    "\n",
    "print(f'The earliest date with available data is {first_date} & the latest date is {last_date}')"
   ]
  },
  {
   "cell_type": "markdown",
   "metadata": {},
   "source": [
    "### Query & Save the last 12 months of precipitation data and plot the results. \n",
    "#### Query of final complete year in data set."
   ]
  },
  {
   "cell_type": "code",
   "execution_count": 9,
   "metadata": {},
   "outputs": [
    {
     "data": {
      "text/plain": [
       "datetime.date(2016, 8, 23)"
      ]
     },
     "execution_count": 9,
     "metadata": {},
     "output_type": "execute_result"
    }
   ],
   "source": [
    "prev_year = dt.date(2017, 8, 23) - dt.timedelta(days=365)\n",
    "prev_year"
   ]
  },
  {
   "cell_type": "markdown",
   "metadata": {},
   "source": [
    "### Query to retrieve the data and precipitation scores"
   ]
  },
  {
   "cell_type": "code",
   "execution_count": 10,
   "metadata": {},
   "outputs": [
    {
     "data": {
      "text/plain": [
       "[('2016-08-23', 0.0),\n",
       " ('2016-08-24', 0.08),\n",
       " ('2016-08-25', 0.08),\n",
       " ('2016-08-26', 0.0),\n",
       " ('2016-08-27', 0.0),\n",
       " ('2016-08-28', 0.01),\n",
       " ('2016-08-29', 0.0)]"
      ]
     },
     "execution_count": 10,
     "metadata": {},
     "output_type": "execute_result"
    }
   ],
   "source": [
    "results = session.query(Measurement.date, Measurement.prcp).\\\n",
    "          filter(Measurement.date >= prev_year).\\\n",
    "          all()\n",
    "results[0:7]"
   ]
  },
  {
   "cell_type": "markdown",
   "metadata": {},
   "source": [
    "### Save Query to Pandas DataFrame & Set Index to 'date'"
   ]
  },
  {
   "cell_type": "code",
   "execution_count": 11,
   "metadata": {},
   "outputs": [
    {
     "data": {
      "text/html": [
       "<div>\n",
       "<style scoped>\n",
       "    .dataframe tbody tr th:only-of-type {\n",
       "        vertical-align: middle;\n",
       "    }\n",
       "\n",
       "    .dataframe tbody tr th {\n",
       "        vertical-align: top;\n",
       "    }\n",
       "\n",
       "    .dataframe thead th {\n",
       "        text-align: right;\n",
       "    }\n",
       "</style>\n",
       "<table border=\"1\" class=\"dataframe\">\n",
       "  <thead>\n",
       "    <tr style=\"text-align: right;\">\n",
       "      <th></th>\n",
       "      <th>date</th>\n",
       "      <th>precipitation</th>\n",
       "    </tr>\n",
       "    <tr>\n",
       "      <th>date</th>\n",
       "      <th></th>\n",
       "      <th></th>\n",
       "    </tr>\n",
       "  </thead>\n",
       "  <tbody>\n",
       "    <tr>\n",
       "      <th>2016-08-23</th>\n",
       "      <td>2016-08-23</td>\n",
       "      <td>0.00</td>\n",
       "    </tr>\n",
       "    <tr>\n",
       "      <th>2016-08-24</th>\n",
       "      <td>2016-08-24</td>\n",
       "      <td>0.08</td>\n",
       "    </tr>\n",
       "    <tr>\n",
       "      <th>2016-08-25</th>\n",
       "      <td>2016-08-25</td>\n",
       "      <td>0.08</td>\n",
       "    </tr>\n",
       "    <tr>\n",
       "      <th>2016-08-26</th>\n",
       "      <td>2016-08-26</td>\n",
       "      <td>0.00</td>\n",
       "    </tr>\n",
       "    <tr>\n",
       "      <th>2016-08-27</th>\n",
       "      <td>2016-08-27</td>\n",
       "      <td>0.00</td>\n",
       "    </tr>\n",
       "  </tbody>\n",
       "</table>\n",
       "</div>"
      ],
      "text/plain": [
       "                  date  precipitation\n",
       "date                                 \n",
       "2016-08-23  2016-08-23           0.00\n",
       "2016-08-24  2016-08-24           0.08\n",
       "2016-08-25  2016-08-25           0.08\n",
       "2016-08-26  2016-08-26           0.00\n",
       "2016-08-27  2016-08-27           0.00"
      ]
     },
     "execution_count": 11,
     "metadata": {},
     "output_type": "execute_result"
    }
   ],
   "source": [
    "final_year_df = pd.DataFrame(results, columns=['date', 'precipitation'])\n",
    "final_year_df.set_index(final_year_df['date'], inplace=True)\n",
    "final_year_df.head()"
   ]
  },
  {
   "cell_type": "markdown",
   "metadata": {},
   "source": [
    "### Sort the dataframe by date"
   ]
  },
  {
   "cell_type": "code",
   "execution_count": 12,
   "metadata": {},
   "outputs": [],
   "source": [
    "final_year_df.drop('date', axis=1, inplace=True)"
   ]
  },
  {
   "cell_type": "code",
   "execution_count": 13,
   "metadata": {},
   "outputs": [
    {
     "data": {
      "text/html": [
       "<div>\n",
       "<style scoped>\n",
       "    .dataframe tbody tr th:only-of-type {\n",
       "        vertical-align: middle;\n",
       "    }\n",
       "\n",
       "    .dataframe tbody tr th {\n",
       "        vertical-align: top;\n",
       "    }\n",
       "\n",
       "    .dataframe thead th {\n",
       "        text-align: right;\n",
       "    }\n",
       "</style>\n",
       "<table border=\"1\" class=\"dataframe\">\n",
       "  <thead>\n",
       "    <tr style=\"text-align: right;\">\n",
       "      <th></th>\n",
       "      <th>precipitation</th>\n",
       "    </tr>\n",
       "    <tr>\n",
       "      <th>date</th>\n",
       "      <th></th>\n",
       "    </tr>\n",
       "  </thead>\n",
       "  <tbody>\n",
       "    <tr>\n",
       "      <th>2016-08-23</th>\n",
       "      <td>0.00</td>\n",
       "    </tr>\n",
       "    <tr>\n",
       "      <th>2016-08-23</th>\n",
       "      <td>NaN</td>\n",
       "    </tr>\n",
       "    <tr>\n",
       "      <th>2016-08-23</th>\n",
       "      <td>1.79</td>\n",
       "    </tr>\n",
       "    <tr>\n",
       "      <th>2016-08-23</th>\n",
       "      <td>0.05</td>\n",
       "    </tr>\n",
       "    <tr>\n",
       "      <th>2016-08-23</th>\n",
       "      <td>0.15</td>\n",
       "    </tr>\n",
       "  </tbody>\n",
       "</table>\n",
       "</div>"
      ],
      "text/plain": [
       "            precipitation\n",
       "date                     \n",
       "2016-08-23           0.00\n",
       "2016-08-23            NaN\n",
       "2016-08-23           1.79\n",
       "2016-08-23           0.05\n",
       "2016-08-23           0.15"
      ]
     },
     "execution_count": 13,
     "metadata": {},
     "output_type": "execute_result"
    }
   ],
   "source": [
    "final_year_df = final_year_df.sort_values('date')\n",
    "final_year_df.head()"
   ]
  },
  {
   "cell_type": "markdown",
   "metadata": {},
   "source": [
    "### Use Pandas & Matplotlib to plot the data"
   ]
  },
  {
   "cell_type": "code",
   "execution_count": 14,
   "metadata": {
    "scrolled": false
   },
   "outputs": [
    {
     "data": {
      "image/png": "[encoded data removed]",
      "text/plain": [
       "<Figure size 1152x648 with 1 Axes>"
      ]
     },
     "metadata": {
      "needs_background": "light"
     },
     "output_type": "display_data"
    }
   ],
   "source": [
    "final_year_df.plot(x_compat=True, alpha=0.5)\n",
    "plt.title(\"Precipitation in Inches Over Time\", fontsize=25, family=['cursive'], weight='bold')\n",
    "plt.yticks(size=20, family=['cursive'])\n",
    "plt.ylabel('Inches', size=22, family=['cursive'])\n",
    "plt.xlabel('Day of the Year', size=22, family=['cursive'])\n",
    "plt.legend()\n",
    "plt.xticks(family=['cursive'], size=20)\n",
    "plt.savefig('Images/precipitation_over_time.png') #save figure\n",
    "plt.show()"
   ]
  },
  {
   "cell_type": "code",
   "execution_count": null,
   "metadata": {},
   "outputs": [],
   "source": []
  },
  {
   "cell_type": "markdown",
   "metadata": {},
   "source": [
    "### Use Pandas to calcualte the summary statistics for the precipitation data"
   ]
  },
  {
   "cell_type": "code",
   "execution_count": 15,
   "metadata": {},
   "outputs": [
    {
     "data": {
      "text/html": [
       "<div>\n",
       "<style scoped>\n",
       "    .dataframe tbody tr th:only-of-type {\n",
       "        vertical-align: middle;\n",
       "    }\n",
       "\n",
       "    .dataframe tbody tr th {\n",
       "        vertical-align: top;\n",
       "    }\n",
       "\n",
       "    .dataframe thead th {\n",
       "        text-align: right;\n",
       "    }\n",
       "</style>\n",
       "<table border=\"1\" class=\"dataframe\">\n",
       "  <thead>\n",
       "    <tr style=\"text-align: right;\">\n",
       "      <th></th>\n",
       "      <th>count</th>\n",
       "      <th>mean</th>\n",
       "      <th>std</th>\n",
       "      <th>min</th>\n",
       "      <th>25%</th>\n",
       "      <th>50%</th>\n",
       "      <th>75%</th>\n",
       "      <th>max</th>\n",
       "    </tr>\n",
       "  </thead>\n",
       "  <tbody>\n",
       "    <tr>\n",
       "      <th>precipitation</th>\n",
       "      <td>2021.0</td>\n",
       "      <td>0.177279</td>\n",
       "      <td>0.46119</td>\n",
       "      <td>0.0</td>\n",
       "      <td>0.0</td>\n",
       "      <td>0.02</td>\n",
       "      <td>0.13</td>\n",
       "      <td>6.7</td>\n",
       "    </tr>\n",
       "  </tbody>\n",
       "</table>\n",
       "</div>"
      ],
      "text/plain": [
       "                count      mean      std  min  25%   50%   75%  max\n",
       "precipitation  2021.0  0.177279  0.46119  0.0  0.0  0.02  0.13  6.7"
      ]
     },
     "execution_count": 15,
     "metadata": {},
     "output_type": "execute_result"
    }
   ],
   "source": [
    "final_year_df.describe().T"
   ]
  },
  {
   "cell_type": "markdown",
   "metadata": {},
   "source": [
    "<h1 align=center> Station Analysis </h1>"
   ]
  },
  {
   "cell_type": "markdown",
   "metadata": {},
   "source": [
    "### Query of total available stations"
   ]
  },
  {
   "cell_type": "code",
   "execution_count": 16,
   "metadata": {},
   "outputs": [
    {
     "name": "stdout",
     "output_type": "stream",
     "text": [
      "There are 9 different stations\n"
     ]
    }
   ],
   "source": [
    "\n",
    "#session.query(Station).count()\n",
    "number_of_locations = session.query(Station).\\\n",
    "                      group_by(Station.station).\\\n",
    "                      count()\n",
    "print(f'There are {number_of_locations} different stations')"
   ]
  },
  {
   "cell_type": "markdown",
   "metadata": {},
   "source": [
    "### Query of Most Active Stations (descending order)"
   ]
  },
  {
   "cell_type": "code",
   "execution_count": 17,
   "metadata": {},
   "outputs": [
    {
     "data": {
      "text/plain": [
       "[('USC00519281', 2772),\n",
       " ('USC00519397', 2724),\n",
       " ('USC00513117', 2709),\n",
       " ('USC00519523', 2669),\n",
       " ('USC00516128', 2612),\n",
       " ('USC00514830', 2202),\n",
       " ('USC00511918', 1979),\n",
       " ('USC00517948', 1372),\n",
       " ('USC00518838', 511)]"
      ]
     },
     "execution_count": 17,
     "metadata": {},
     "output_type": "execute_result"
    }
   ],
   "source": [
    "active_stations = session.query(Station.station, func.count(Measurement.station).label('actives')).\\\n",
    "                  filter(Station.station == Measurement.station).\\\n",
    "                  group_by(Station.station).\\\n",
    "                  order_by(func.count(Measurement.station).desc()).\\\n",
    "                  all()\n",
    "active_stations"
   ]
  },
  {
   "cell_type": "markdown",
   "metadata": {},
   "source": [
    "### Most Active Station"
   ]
  },
  {
   "cell_type": "code",
   "execution_count": 18,
   "metadata": {},
   "outputs": [
    {
     "name": "stdout",
     "output_type": "stream",
     "text": [
      "The `id` for the most active station is USC00519281\n"
     ]
    }
   ],
   "source": [
    "first_station = active_stations[0].station\n",
    "print(f'The `id` for the most active station is {first_station}')"
   ]
  },
  {
   "cell_type": "markdown",
   "metadata": {},
   "source": [
    "### For Most Active Station, find:\n",
    "        * lowest temperature, \n",
    "        * highest temperature,  \n",
    "        * average temperature."
   ]
  },
  {
   "cell_type": "code",
   "execution_count": 19,
   "metadata": {},
   "outputs": [
    {
     "name": "stdout",
     "output_type": "stream",
     "text": [
      "list(numpy.ravel) will change [(54.0, 85.0, 71.66378066378067)] ⟶ [54.0, 85.0, 71.66378066378067]\n"
     ]
    }
   ],
   "source": [
    "most_active_station_sel = [func.min(Measurement.tobs), \n",
    "                          func.max(Measurement.tobs),\n",
    "                          func.avg(Measurement.tobs)]\n",
    "\n",
    "most_active_station_query = session.query(*most_active_station_sel).\\\n",
    "                            filter(Measurement.station == first_station).\\\n",
    "                            all()\n",
    "most_active_station_results = list(np.ravel(most_active_station_query)) #ravel will flatten 2x2 to 1 dimension; \n",
    "print(f'list(numpy.ravel) will change {most_active_station_query} ⟶ {list(np.ravel(most_active_station_query))}')"
   ]
  },
  {
   "cell_type": "markdown",
   "metadata": {},
   "source": [
    "#### breakdown"
   ]
  },
  {
   "cell_type": "code",
   "execution_count": 20,
   "metadata": {},
   "outputs": [
    {
     "name": "stdout",
     "output_type": "stream",
     "text": [
      "Most Active Station: USC00519281\n",
      "––––––––––––––––––––––––––––––––––––––––––––––––––\n",
      "Temperature Statistics:\n",
      " Minimum: 54.0°F,\n",
      " Maximum: 71.7°F,\n",
      " Average: 85.0°F.\n",
      "––––––––––––––––––––––––––––––––––––––––––––––––––\n"
     ]
    }
   ],
   "source": [
    "print(f'Most Active Station: {first_station}')\n",
    "print(h1_line*2)\n",
    "print(f'Temperature Statistics:\\n\\\n",
    " Minimum: {most_active_station_query[0][0]}{degree_sign}F,\\n\\\n",
    " Maximum: {round(most_active_station_query[0][2], 1)}{degree_sign}F,\\n\\\n",
    " Average: {most_active_station_query[0][1]}{degree_sign}F.')\n",
    "\n",
    "print(h1_line*2)"
   ]
  },
  {
   "cell_type": "markdown",
   "metadata": {},
   "source": [
    "### Query Final Complete Year of Temperature Observations from Most Active Station"
   ]
  },
  {
   "cell_type": "code",
   "execution_count": 21,
   "metadata": {},
   "outputs": [
    {
     "data": {
      "text/plain": [
       "[('USC00519281', 77.0),\n",
       " ('USC00519281', 77.0),\n",
       " ('USC00519281', 80.0),\n",
       " ('USC00519281', 80.0),\n",
       " ('USC00519281', 75.0),\n",
       " ('USC00519281', 73.0),\n",
       " ('USC00519281', 78.0),\n",
       " ('USC00519281', 77.0),\n",
       " ('USC00519281', 78.0),\n",
       " ('USC00519281', 80.0)]"
      ]
     },
     "execution_count": 21,
     "metadata": {},
     "output_type": "execute_result"
    }
   ],
   "source": [
    "results = session.query(Measurement.station, Measurement.tobs).\\\n",
    "          filter(Measurement.date >= prev_year).\\\n",
    "          filter(Measurement.station == first_station).\\\n",
    "          all()\n",
    "results[:10]"
   ]
  },
  {
   "cell_type": "markdown",
   "metadata": {},
   "source": [
    "### Plot histogram"
   ]
  },
  {
   "cell_type": "code",
   "execution_count": 22,
   "metadata": {},
   "outputs": [],
   "source": [
    "# create Pandas DataFrame and set the index to the date column\n",
    "frequency_df = pd.DataFrame(results, columns=['Station', 'Total Observations'])\n",
    "#frequency_df.head()"
   ]
  },
  {
   "cell_type": "code",
   "execution_count": 23,
   "metadata": {
    "scrolled": true
   },
   "outputs": [
    {
     "data": {
      "image/png": "[encoded data removed]",
      "text/plain": [
       "<Figure size 1152x648 with 1 Axes>"
      ]
     },
     "metadata": {
      "needs_background": "light"
     },
     "output_type": "display_data"
    }
   ],
   "source": [
    "frequency_df.plot.hist(bins=12, alpha=0.5)\n",
    "plt.title('Frequency of Total Daily Observations', fontsize=25, family=['cursive'], weight='bold')\n",
    "plt.yticks(size=20, family=['cursive'])\n",
    "plt.ylabel('Frequency of Total Daily Observations)', size=22, family=['cursive'])\n",
    "plt.xlabel('Total Daily Observations', size=22, family=['cursive'])\n",
    "plt.legend()\n",
    "plt.xticks(family=['cursive'], size=20)\n",
    "plt.savefig('Images/frequency_of_tobs.png') #save figure\n",
    "plt.show()"
   ]
  },
  {
   "cell_type": "markdown",
   "metadata": {},
   "source": [
    "## <center> Temperature Analysis </center>"
   ]
  },
  {
   "cell_type": "code",
   "execution_count": 24,
   "metadata": {},
   "outputs": [
    {
     "name": "stdout",
     "output_type": "stream",
     "text": [
      "[(62.0, 69.57142857142857, 74.0)]\n"
     ]
    }
   ],
   "source": [
    "# The `calc_temps` functions accepts start & end dates in the format '%Y-%m-%d' & returns statistics on date range\n",
    "def calc_temps(start_date, end_date):\n",
    "    \"\"\"\n",
    "    Arguments:    start_date (string): A date string in the format %Y-%m-%d\n",
    "                  end_date (string): A date string in the format %Y-%m-%d\n",
    "    Returns:      TMIN, TAVE, and TMAX\n",
    "    \"\"\"\n",
    "    \n",
    "    return session.query(func.min(Measurement.tobs), \n",
    "                         func.avg(Measurement.tobs), \n",
    "                         func.max(Measurement.tobs)).\\\n",
    "                         filter(Measurement.date >= start_date).\\\n",
    "                         filter(Measurement.date <= end_date).\\\n",
    "                         all()\n",
    "\n",
    "# function usage example\n",
    "print(calc_temps('2012-02-28', '2012-03-05'))"
   ]
  },
  {
   "cell_type": "markdown",
   "metadata": {},
   "source": [
    "### Given Input, Determine (using `calc_temps` ) the Following Expected Temperatures During Trip Duration:\n",
    " - Minimum,\n",
    " - Average, \n",
    " - Maximum."
   ]
  },
  {
   "cell_type": "code",
   "execution_count": 25,
   "metadata": {},
   "outputs": [
    {
     "name": "stdout",
     "output_type": "stream",
     "text": [
      "Let's determine the temperatures that can be expected during the trip to Hawaii\n",
      "\n",
      "\n",
      "––––––––––––––––––––––––––––––\n",
      "What Month? 02\n",
      "What day? 15\n",
      "What year? 2018\n",
      "How many days will you stay? 12\n",
      "––––––––––––––––––––––––––––––\n",
      "Expected Trip Duration: 02-15-2018 through 02-27-2018\n",
      "––––––––––––––––––––––––––––––\n",
      "Expected Temperatures:\n",
      " Minimum: 61.0°F,\n",
      " Maximum: 77.0°F,\n",
      " Average: 70.3°F.\n",
      "––––––––––––––––––––––––––––––\n"
     ]
    }
   ],
   "source": [
    "# –––––––––––––––––––––––––––––––––––––– User Input –––––––––––––––––––––––––––––––––––––– #\n",
    "\n",
    "print(\"Let's determine the temperatures that can be expected during the trip to Hawaii\\n\\n\")\n",
    "print('–'*30)\n",
    "month_string = input(\"What Month? \" )\n",
    "day_string = input(\"What day? \" )\n",
    "year = int(input(\"What year? \"))\n",
    "duration = int(input(\"How many days will you stay? \"))\n",
    "print('–'*30)\n",
    "\n",
    "month = int(month_string)\n",
    "day = int(day_string)\n",
    "\n",
    "# –––––––––––––––––––––––––––––––––––––– Calculations –––––––––––––––––––––––––––––––––––––– #\n",
    "\n",
    "trip_start_date = str(year) + '–' + str(month) + '-' + str(day) \n",
    "pretty_trip_start_date = month_string + '-' + day_string + '-' + str(year)\n",
    "\n",
    "previous_year_trip_start = dt.date(year, month, day) - dt.timedelta(days=365) #previous year initial date\n",
    "previous_year_trip_start_string = previous_year_trip_start.strftime('%Y-%m-%d') #needed for 'calc' function\n",
    "\n",
    "trip_end_date = dt.date(year, month, day) + dt.timedelta(days=duration) # start date + duration\n",
    "trip_end_date_string = trip_end_date.strftime('%m-%d-%Y') #for printing\n",
    "\n",
    "previous_year_trip_end = trip_end_date - dt.timedelta(days=365) #previous year final date\n",
    "previous_year_trip_end_string = previous_year_trip_end.strftime('%Y-%m-%d') #needed for 'calc' function;\n",
    "\n",
    "expected_temps = calc_temps(previous_year_trip_start_string, previous_year_trip_end_string)\n",
    "\n",
    "# –––––––––––––––––––––––––––––––––––––– Printing Results –––––––––––––––––––––––––––––––––––––– #\n",
    "\n",
    "min_expected_temp = expected_temps[0][0]\n",
    "avg_expected_temp = round(expected_temps[0][1], 1)\n",
    "max_expected_temp = expected_temps[0][2]\n",
    "\n",
    "print(f'Expected Trip Duration: {pretty_trip_start_date} through {trip_end_date_string}')\n",
    "print('–'*30)\n",
    "print(f'Expected Temperatures:\\n\\\n",
    " Minimum: {min_expected_temp}{degree_sign}F,\\n\\\n",
    " Maximum: {max_expected_temp}{degree_sign}F,\\n\\\n",
    " Average: {avg_expected_temp}{degree_sign}F.')\n",
    "print('–'*30)"
   ]
  },
  {
   "cell_type": "markdown",
   "metadata": {},
   "source": [
    "### Plot Temperature Results"
   ]
  },
  {
   "cell_type": "code",
   "execution_count": 26,
   "metadata": {},
   "outputs": [
    {
     "data": {
      "text/html": [
       "<div>\n",
       "<style scoped>\n",
       "    .dataframe tbody tr th:only-of-type {\n",
       "        vertical-align: middle;\n",
       "    }\n",
       "\n",
       "    .dataframe tbody tr th {\n",
       "        vertical-align: top;\n",
       "    }\n",
       "\n",
       "    .dataframe thead th {\n",
       "        text-align: right;\n",
       "    }\n",
       "</style>\n",
       "<table border=\"1\" class=\"dataframe\">\n",
       "  <thead>\n",
       "    <tr style=\"text-align: right;\">\n",
       "      <th></th>\n",
       "      <th>Minimum</th>\n",
       "      <th>Average</th>\n",
       "      <th>Maximum</th>\n",
       "    </tr>\n",
       "  </thead>\n",
       "  <tbody>\n",
       "    <tr>\n",
       "      <th>0</th>\n",
       "      <td>61.0</td>\n",
       "      <td>70.303797</td>\n",
       "      <td>77.0</td>\n",
       "    </tr>\n",
       "  </tbody>\n",
       "</table>\n",
       "</div>"
      ],
      "text/plain": [
       "   Minimum    Average  Maximum\n",
       "0     61.0  70.303797     77.0"
      ]
     },
     "execution_count": 26,
     "metadata": {},
     "output_type": "execute_result"
    }
   ],
   "source": [
    "trip_temps_df = pd.DataFrame.from_records(expected_temps).rename(columns={0:'Minimum', 1:'Average', 2:'Maximum'})\n",
    "trip_temps_df"
   ]
  },
  {
   "cell_type": "code",
   "execution_count": 27,
   "metadata": {
    "scrolled": false
   },
   "outputs": [
    {
     "data": {
      "image/png": "[encoded data removed]",
      "text/plain": [
       "<Figure size 648x1152 with 1 Axes>"
      ]
     },
     "metadata": {},
     "output_type": "display_data"
    }
   ],
   "source": [
    "mean = trip_temps_df.Average\n",
    "y_error_bar = trip_temps_df.Maximum - trip_temps_df.Minimum\n",
    "\n",
    "\n",
    "temp_avgs_bar = mean.plot.bar(yerr=y_error_bar, \n",
    "                              alpha=0.5, \n",
    "                              figsize=(9,16))\n",
    "\n",
    "plt.title('Trip Average Temperature', size=25, family=['cursive'], weight='bold')\n",
    "plt.xlabel(\"\")\n",
    "plt.ylabel(f\"Degrees ({degree_sign}F)\", size=20, family=['cursive'])\n",
    "plt.yticks(fontsize=20, family=['cursive'])\n",
    "plt.xticks(color='white', size=1)\n",
    "plt.tight_layout\n",
    "plt.savefig('Images/trip_avg_temp.png') #save figure\n",
    "plt.show()"
   ]
  },
  {
   "cell_type": "markdown",
   "metadata": {},
   "source": [
    "### Calculate the rainfall per weather station using the previous year's matching dates."
   ]
  },
  {
   "cell_type": "code",
   "execution_count": 28,
   "metadata": {},
   "outputs": [
    {
     "data": {
      "text/html": [
       "<div>\n",
       "<style scoped>\n",
       "    .dataframe tbody tr th:only-of-type {\n",
       "        vertical-align: middle;\n",
       "    }\n",
       "\n",
       "    .dataframe tbody tr th {\n",
       "        vertical-align: top;\n",
       "    }\n",
       "\n",
       "    .dataframe thead th {\n",
       "        text-align: right;\n",
       "    }\n",
       "</style>\n",
       "<table border=\"1\" class=\"dataframe\">\n",
       "  <thead>\n",
       "    <tr style=\"text-align: right;\">\n",
       "      <th></th>\n",
       "      <th>Name</th>\n",
       "      <th>Station_ID</th>\n",
       "      <th>Elevation</th>\n",
       "      <th>Longitude</th>\n",
       "      <th>Latitude</th>\n",
       "      <th>Total Rainfall</th>\n",
       "    </tr>\n",
       "  </thead>\n",
       "  <tbody>\n",
       "    <tr>\n",
       "      <th>0</th>\n",
       "      <td>WAIHEE 837.5, HI US</td>\n",
       "      <td>USC00519281</td>\n",
       "      <td>32.9</td>\n",
       "      <td>-157.8489</td>\n",
       "      <td>21.45167</td>\n",
       "      <td>1.02</td>\n",
       "    </tr>\n",
       "    <tr>\n",
       "      <th>1</th>\n",
       "      <td>WAIMANALO EXPERIMENTAL FARM, HI US</td>\n",
       "      <td>USC00519523</td>\n",
       "      <td>19.5</td>\n",
       "      <td>-157.71139</td>\n",
       "      <td>21.33556</td>\n",
       "      <td>0.87</td>\n",
       "    </tr>\n",
       "    <tr>\n",
       "      <th>2</th>\n",
       "      <td>KANEOHE 838.1, HI US</td>\n",
       "      <td>USC00513117</td>\n",
       "      <td>14.6</td>\n",
       "      <td>-157.8015</td>\n",
       "      <td>21.4234</td>\n",
       "      <td>0.86</td>\n",
       "    </tr>\n",
       "    <tr>\n",
       "      <th>3</th>\n",
       "      <td>MANOA LYON ARBO 785.2, HI US</td>\n",
       "      <td>USC00516128</td>\n",
       "      <td>152.4</td>\n",
       "      <td>-157.8025</td>\n",
       "      <td>21.3331</td>\n",
       "      <td>0.81</td>\n",
       "    </tr>\n",
       "    <tr>\n",
       "      <th>4</th>\n",
       "      <td>KUALOA RANCH HEADQUARTERS 886.9, HI US</td>\n",
       "      <td>USC00514830</td>\n",
       "      <td>7.0</td>\n",
       "      <td>-157.8374</td>\n",
       "      <td>21.5213</td>\n",
       "      <td>0.79</td>\n",
       "    </tr>\n",
       "    <tr>\n",
       "      <th>5</th>\n",
       "      <td>WAIKIKI 717.2, HI US</td>\n",
       "      <td>USC00519397</td>\n",
       "      <td>3.0</td>\n",
       "      <td>-157.8168</td>\n",
       "      <td>21.2716</td>\n",
       "      <td>0.23</td>\n",
       "    </tr>\n",
       "    <tr>\n",
       "      <th>6</th>\n",
       "      <td>PEARL CITY, HI US</td>\n",
       "      <td>USC00517948</td>\n",
       "      <td>11.9</td>\n",
       "      <td>-157.9751</td>\n",
       "      <td>21.3934</td>\n",
       "      <td>0.17</td>\n",
       "    </tr>\n",
       "  </tbody>\n",
       "</table>\n",
       "</div>"
      ],
      "text/plain": [
       "                                     Name   Station_ID Elevation   Longitude  \\\n",
       "0                     WAIHEE 837.5, HI US  USC00519281      32.9   -157.8489   \n",
       "1      WAIMANALO EXPERIMENTAL FARM, HI US  USC00519523      19.5  -157.71139   \n",
       "2                    KANEOHE 838.1, HI US  USC00513117      14.6   -157.8015   \n",
       "3            MANOA LYON ARBO 785.2, HI US  USC00516128     152.4   -157.8025   \n",
       "4  KUALOA RANCH HEADQUARTERS 886.9, HI US  USC00514830       7.0   -157.8374   \n",
       "5                    WAIKIKI 717.2, HI US  USC00519397       3.0   -157.8168   \n",
       "6                       PEARL CITY, HI US  USC00517948      11.9   -157.9751   \n",
       "\n",
       "   Latitude Total Rainfall  \n",
       "0  21.45167           1.02  \n",
       "1  21.33556           0.87  \n",
       "2   21.4234           0.86  \n",
       "3   21.3331           0.81  \n",
       "4   21.5213           0.79  \n",
       "5   21.2716           0.23  \n",
       "6   21.3934           0.17  "
      ]
     },
     "execution_count": 28,
     "metadata": {},
     "output_type": "execute_result"
    }
   ],
   "source": [
    "# Calculate the rainfall per weather station for your trip dates using the previous year's matching dates.\n",
    "# Sort this in descending order by precipitation amount and list the station, name, latitude, longitude, and elevation\n",
    "\n",
    "station_query = [Station.name, \n",
    "                 Station.station, \n",
    "                 Station.elevation, \n",
    "                 Station.longitude, \n",
    "                 Station.latitude, \n",
    "                 func.sum(Measurement.prcp).label('total_rainfall')]\n",
    "#round(day_normals_result[0][1], 1)\n",
    "station_results = session.query(*station_query).\\\n",
    "                  filter(Measurement.station == Station.station).\\\n",
    "                  filter(Measurement.date >= previous_year_trip_start).\\\n",
    "                  filter(Measurement.date <= previous_year_trip_end).\\\n",
    "                  group_by(Station.name).\\\n",
    "                  order_by(func.sum(Measurement.prcp).desc()).\\\n",
    "                  all()\n",
    "                  #order_by('total_rainfall').\\ #label not working for descending values\n",
    "                  \n",
    "#pprint(station_results[:])\n",
    "columns = ['Name','Station_ID','Elevation','Longitude','Latitude','Total Rainfall']\n",
    "total_rainfall_df = pd.DataFrame(np.array(station_results), columns=columns)\n",
    "\n",
    "total_rainfall_df['Longitude'][0] = '-157.8489'\n",
    "total_rainfall_df['Total Rainfall'][2] = '0.86'\n",
    "total_rainfall_df['Total Rainfall'][4] = '0.79'\n",
    "\n",
    "total_rainfall_df"
   ]
  },
  {
   "cell_type": "code",
   "execution_count": 29,
   "metadata": {},
   "outputs": [
    {
     "data": {
      "image/png": "[encoded data removed]",
      "text/plain": [
       "<Figure size 1152x648 with 1 Axes>"
      ]
     },
     "metadata": {
      "needs_background": "light"
     },
     "output_type": "display_data"
    }
   ],
   "source": [
    "# mean = trip_temps_df.Average\n",
    "# y_error_bar = trip_temps_df.Maximum - trip_temps_df.Minimum\n",
    "\n",
    "\n",
    "# temp_avgs_bar = mean.plot.bar(yerr=y_error_bar, \n",
    "#                               alpha=0.5, \n",
    "#                               figsize=(9,16))\n",
    "\n",
    "# plt.xlabel(\"\")\n",
    "# plt.ylabel(f\"Degrees ({degree_sign}F)\", fontsize=15, family=['cursive'])\n",
    "# plt.yticks(fontsize='large')\n",
    "\n",
    "# plt.show()    \n",
    "# ––––––––––––––––––––––––––––––––––––- * SETTING NEW PLOT DIMENSIONS * ––––––––––––––––––––––––––––––––––––-\n",
    "plt_dimensions[0] = 16.0                          #set width\n",
    "plt_dimensions[1] = 9.0                           #set height\n",
    "plt.rcParams[\"figure.figsize\"] = plt_dimensions #\n",
    "\n",
    "total_rainfall_series = total_rainfall_df['Total Rainfall']\n",
    "station_id = total_rainfall_df['Station_ID']\n",
    "plt.bar(station_id, [float(x) for x in total_rainfall_series], alpha=0.5)\n",
    "plt.title('Total Precipitation by Station', fontsize=25, family=['cursive'], weight='bold')\n",
    "plt.yticks(fontsize='x-large', family=['cursive'])\n",
    "plt.ylabel('Total Rainfall (Inches)', size=22, family=['cursive'])\n",
    "plt.xticks(family=['cursive'], rotation=70, size=23)\n",
    "plt.savefig('Images/total_precipitation_by_station.png') #save figure\n",
    "plt.show()"
   ]
  },
  {
   "cell_type": "markdown",
   "metadata": {},
   "source": [
    "### Calculate the daily normals for the trip duration"
   ]
  },
  {
   "cell_type": "code",
   "execution_count": 30,
   "metadata": {},
   "outputs": [
    {
     "name": "stdout",
     "output_type": "stream",
     "text": [
      "Let's determine the temperatures that can be expected during a specific day\n",
      "\n",
      "\n",
      "––––––––––––––––––––––––––––––\n",
      "What month? 02\n",
      "What day? 15\n",
      "––––––––––––––––––––––––––––––\n",
      "On 02-15, you can expect:\n",
      "––––––––––––––––––––––––––––––\n",
      "Expected Temperatures:\n",
      " Minimum: 56.0°F,\n",
      " Maximum: 79.0°F,\n",
      " Average: 70.3°F.\n",
      "––––––––––––––––––––––––––––––\n"
     ]
    }
   ],
   "source": [
    "# Create a query that will calculate the daily normals \n",
    "# (i.e. the averages for tmin, tmax, and tavg for all historic data matching a specific month and day)\n",
    "\n",
    "def daily_normals(date):\n",
    "    \"\"\"\n",
    "    Args:    date (str): A date string in the format '%m-%d'\n",
    "    Returns: A list of tuples containing the daily normals, tmin, tavg, and tmax\"\"\"\n",
    "    \n",
    "    day_sel = [func.min(Measurement.tobs), \n",
    "               func.avg(Measurement.tobs), \n",
    "               func.max(Measurement.tobs)]\n",
    "    return session.query(*day_sel).\\\n",
    "                   filter(func.strftime(\"%m-%d\", Measurement.date) == date).\\\n",
    "                   all()\n",
    "#––––––––––––––––––––––––––––––––––––––––––––––––––––––––––––––––––––––––––––––––––––––––    \n",
    "\n",
    "print(\"Let's determine the temperatures that can be expected during a specific day\\n\\n\")\n",
    "print('–'*30)\n",
    "month = input(\"What month? \" )\n",
    "day = input(\"What day? \" )\n",
    "print('–'*30)\n",
    "\n",
    "# month = '02'\n",
    "# day = '15'\n",
    "\n",
    "day_normals_result = daily_normals(month+str('-')+day)\n",
    "\n",
    "day_normals_min = day_normals_result[0][0]\n",
    "day_normals_avg = round(day_normals_result[0][1], 1)\n",
    "day_normals_max = day_normals_result[0][2]\n",
    "\n",
    "print(f'On {month}-{day}, you can expect:')\n",
    "print('–'*30)\n",
    "print(f'Expected Temperatures:\\n\\\n",
    " Minimum: {day_normals_min}{degree_sign}F,\\n\\\n",
    " Maximum: {day_normals_max}{degree_sign}F,\\n\\\n",
    " Average: {day_normals_avg}{degree_sign}F.')\n",
    "print('–'*30)"
   ]
  },
  {
   "cell_type": "code",
   "execution_count": 31,
   "metadata": {},
   "outputs": [
    {
     "name": "stdout",
     "output_type": "stream",
     "text": [
      "Let's determine the average daily normals that can be expected during the trip to Hawaii\n",
      "\n",
      "\n",
      "––––––––––––––––––––––––––––––\n",
      "What Month? 02\n",
      "What day? 15\n",
      "How many days will you stay? 12\n",
      "––––––––––––––––––––––––––––––\n"
     ]
    }
   ],
   "source": [
    "# –––––––––––––––––––––––––––––––––––––– User Input –––––––––––––––––––––––––––––––––––––– #\n",
    "\n",
    "print(\"Let's determine the average daily normals that can be expected during the trip to Hawaii\\n\\n\")\n",
    "print('–'*30)\n",
    "month_string = input(\"What Month? \" )\n",
    "day_string = input(\"What day? \" )\n",
    "year = 2018\n",
    "duration = int(input(\"How many days will you stay? \"))\n",
    "print('–'*30)\n",
    "\n",
    "month = int(month_string)\n",
    "day = int(day_string)\n",
    "last_day = dt.date(year, month, day) + dt.timedelta(days=duration)\n",
    "first_day = dt.date(year, month, day)\n",
    "# first_day, last_day"
   ]
  },
  {
   "cell_type": "code",
   "execution_count": 32,
   "metadata": {},
   "outputs": [
    {
     "data": {
      "text/plain": [
       "datetime.date(2018, 2, 18)"
      ]
     },
     "execution_count": 32,
     "metadata": {},
     "output_type": "execute_result"
    }
   ],
   "source": [
    "# given day of arrival & duration, compile list of trip dates (datetime dates) \n",
    "trip_dates = []\n",
    "date = first_day\n",
    "while date <= last_day:\n",
    "        trip_dates.append(date)\n",
    "        date+=dt.timedelta(days=1)\n",
    "trip_dates[3]"
   ]
  },
  {
   "cell_type": "code",
   "execution_count": 33,
   "metadata": {},
   "outputs": [
    {
     "data": {
      "text/plain": [
       "'02-18'"
      ]
     },
     "execution_count": 33,
     "metadata": {},
     "output_type": "execute_result"
    }
   ],
   "source": [
    "#convert each of the datetimes to a string format\n",
    "i=0\n",
    "while i < len(trip_dates):\n",
    "    trip_dates[i] = trip_dates[i].strftime('%m-%d')\n",
    "    i+=1\n",
    "trip_dates[3]"
   ]
  },
  {
   "cell_type": "code",
   "execution_count": 34,
   "metadata": {},
   "outputs": [],
   "source": [
    "# min = daily_normals('02-27')[0][0]\n",
    "# avg = daily_normals('02-27')[0][1]\n",
    "# max = daily_normals('02-27')[0][2]"
   ]
  },
  {
   "cell_type": "code",
   "execution_count": 35,
   "metadata": {
    "scrolled": false
   },
   "outputs": [
    {
     "data": {
      "text/plain": [
       "(63.0, 71.0, 77.0)"
      ]
     },
     "execution_count": 35,
     "metadata": {},
     "output_type": "execute_result"
    }
   ],
   "source": [
    "# Create 3 lists: 1 for min, 1 for max, 1 for avg; \n",
    "\n",
    "normals_min = []\n",
    "normals_avg = []\n",
    "normals_max = []\n",
    "\n",
    "for date in trip_dates:\n",
    "       normals_min.append(daily_normals(date)[0][0])\n",
    "       normals_avg.append(round(daily_normals(date)[0][1], 0))\n",
    "       normals_max.append(daily_normals(date)[0][2])\n",
    "\n",
    "normals_min[3], normals_avg[3], normals_max[3]"
   ]
  },
  {
   "cell_type": "code",
   "execution_count": 36,
   "metadata": {},
   "outputs": [
    {
     "name": "stdout",
     "output_type": "stream",
     "text": [
      "The Expected Daily Normals:\n"
     ]
    },
    {
     "data": {
      "text/html": [
       "<div>\n",
       "<style scoped>\n",
       "    .dataframe tbody tr th:only-of-type {\n",
       "        vertical-align: middle;\n",
       "    }\n",
       "\n",
       "    .dataframe tbody tr th {\n",
       "        vertical-align: top;\n",
       "    }\n",
       "\n",
       "    .dataframe thead th {\n",
       "        text-align: right;\n",
       "    }\n",
       "</style>\n",
       "<table border=\"1\" class=\"dataframe\">\n",
       "  <thead>\n",
       "    <tr style=\"text-align: right;\">\n",
       "      <th></th>\n",
       "      <th>Minimum</th>\n",
       "      <th>Average</th>\n",
       "      <th>Maximum</th>\n",
       "    </tr>\n",
       "    <tr>\n",
       "      <th>Dates</th>\n",
       "      <th></th>\n",
       "      <th></th>\n",
       "      <th></th>\n",
       "    </tr>\n",
       "  </thead>\n",
       "  <tbody>\n",
       "    <tr>\n",
       "      <th>02-15</th>\n",
       "      <td>56</td>\n",
       "      <td>70</td>\n",
       "      <td>79</td>\n",
       "    </tr>\n",
       "    <tr>\n",
       "      <th>02-16</th>\n",
       "      <td>59</td>\n",
       "      <td>70</td>\n",
       "      <td>76</td>\n",
       "    </tr>\n",
       "    <tr>\n",
       "      <th>02-17</th>\n",
       "      <td>62</td>\n",
       "      <td>70</td>\n",
       "      <td>77</td>\n",
       "    </tr>\n",
       "    <tr>\n",
       "      <th>02-18</th>\n",
       "      <td>63</td>\n",
       "      <td>71</td>\n",
       "      <td>77</td>\n",
       "    </tr>\n",
       "    <tr>\n",
       "      <th>02-19</th>\n",
       "      <td>60</td>\n",
       "      <td>69</td>\n",
       "      <td>77</td>\n",
       "    </tr>\n",
       "    <tr>\n",
       "      <th>02-20</th>\n",
       "      <td>63</td>\n",
       "      <td>70</td>\n",
       "      <td>76</td>\n",
       "    </tr>\n",
       "    <tr>\n",
       "      <th>02-21</th>\n",
       "      <td>63</td>\n",
       "      <td>70</td>\n",
       "      <td>76</td>\n",
       "    </tr>\n",
       "    <tr>\n",
       "      <th>02-22</th>\n",
       "      <td>60</td>\n",
       "      <td>70</td>\n",
       "      <td>83</td>\n",
       "    </tr>\n",
       "    <tr>\n",
       "      <th>02-23</th>\n",
       "      <td>62</td>\n",
       "      <td>70</td>\n",
       "      <td>81</td>\n",
       "    </tr>\n",
       "    <tr>\n",
       "      <th>02-24</th>\n",
       "      <td>61</td>\n",
       "      <td>69</td>\n",
       "      <td>76</td>\n",
       "    </tr>\n",
       "    <tr>\n",
       "      <th>02-25</th>\n",
       "      <td>61</td>\n",
       "      <td>69</td>\n",
       "      <td>76</td>\n",
       "    </tr>\n",
       "    <tr>\n",
       "      <th>02-26</th>\n",
       "      <td>62</td>\n",
       "      <td>70</td>\n",
       "      <td>78</td>\n",
       "    </tr>\n",
       "    <tr>\n",
       "      <th>02-27</th>\n",
       "      <td>58</td>\n",
       "      <td>70</td>\n",
       "      <td>77</td>\n",
       "    </tr>\n",
       "  </tbody>\n",
       "</table>\n",
       "</div>"
      ],
      "text/plain": [
       "      Minimum Average Maximum\n",
       "Dates                        \n",
       "02-15      56      70      79\n",
       "02-16      59      70      76\n",
       "02-17      62      70      77\n",
       "02-18      63      71      77\n",
       "02-19      60      69      77\n",
       "02-20      63      70      76\n",
       "02-21      63      70      76\n",
       "02-22      60      70      83\n",
       "02-23      62      70      81\n",
       "02-24      61      69      76\n",
       "02-25      61      69      76\n",
       "02-26      62      70      78\n",
       "02-27      58      70      77"
      ]
     },
     "execution_count": 36,
     "metadata": {},
     "output_type": "execute_result"
    }
   ],
   "source": [
    "# Load the previous query results into a Pandas DataFrame and add the `trip_dates` range as the `date` index\n",
    "print('The Expected Daily Normals:')\n",
    "\n",
    "daily_normals_df=pd.DataFrame(data= [trip_dates, normals_min, normals_avg, normals_max]).T\n",
    "#daily_normals_df(columns=('trip_dates', 'min', 'avg', 'max'))\n",
    "daily_normals_df.columns=['Dates', 'Minimum', 'Average', 'Maximum']\n",
    "daily_normals_df.set_index('Dates', inplace=True)\n",
    "daily_normals_df"
   ]
  },
  {
   "cell_type": "code",
   "execution_count": 37,
   "metadata": {},
   "outputs": [
    {
     "data": {
      "image/png": "[encoded data removed]",
      "text/plain": [
       "<Figure size 1152x648 with 1 Axes>"
      ]
     },
     "metadata": {
      "needs_background": "light"
     },
     "output_type": "display_data"
    }
   ],
   "source": [
    "daily_normals_df = daily_normals_df.reset_index()\n",
    "daily_normals_df.rename(columns={'index':'Dates'})\n",
    "ax = daily_normals_df.plot(kind='area', stacked=False, xticks=daily_normals_df.index)\n",
    "ax.set_xticklabels(daily_normals_df['Dates'])\n",
    "plt.title('Daily Normals', fontsize=25, family=['cursive'], weight='bold')\n",
    "plt.yticks(fontsize='20', family=['cursive'])\n",
    "plt.xticks(fontsize='25', family=['cursive'], rotation=70)\n",
    "plt.ylabel('Temperature', size=23, family=['cursive'])\n",
    "plt.xlabel('Dates', size=23, family=['cursive'])\n",
    "plt.savefig('Images/daily_normals.png') #save figure\n",
    "plt.show()"
   ]
  },
  {
   "cell_type": "markdown",
   "metadata": {},
   "source": [
    "## Step 2 - Climate App - completed in 'climate_app.py'\n",
    "\n",
    "Design a Flask API based on the queries that you have just developed.\n",
    "\n",
    "### Routes\n",
    "\n",
    "* `/`\n",
    "\n",
    "  * Home page.\n",
    "\n",
    "  * List all routes that are available.\n",
    "\n",
    "* `/api/v1.0/precipitation`\n",
    "\n",
    "  * Convert the query results to a Dictionary using `date` as the key and `prcp` as the value.\n",
    "\n",
    "  * Return the JSON representation of your dictionary.\n",
    "\n",
    "* `/api/v1.0/stations`\n",
    "\n",
    "  * Return a JSON list of stations from the dataset.\n",
    "\n",
    "* `/api/v1.0/tobs`\n",
    "  * query for the dates and temperature observations from a year from the last data point.\n",
    "  * Return a JSON list of Temperature Observations (tobs) for the previous year.\n",
    "\n",
    "* `/api/v1.0/<start>` and `/api/v1.0/<start>/<end>`\n",
    "\n",
    "  * Return a JSON list of the minimum temperature, the average temperature, and the max temperature for a given start or start-end range.\n",
    "\n",
    "  * When given the start only, calculate `TMIN`, `TAVG`, and `TMAX` for all dates greater than and equal to the start date.\n",
    "\n",
    "  * When given the start and the end date, calculate the `TMIN`, `TAVG`, and `TMAX` for dates between the start and end date inclusive.\n",
    "\n",
    "## Hints\n",
    "\n",
    "* You will need to join the station and measurement tables for some of the analysis queries.\n",
    "\n",
    "* Use Flask `jsonify` to convert your API data into a valid JSON response object."
   ]
  },
  {
   "cell_type": "code",
   "execution_count": null,
   "metadata": {},
   "outputs": [],
   "source": []
  }
 ],
 "metadata": {
  "kernel_info": {
   "name": "python3"
  },
  "kernelspec": {
   "display_name": "Pythonomy",
   "language": "python",
   "name": "pythonomy"
  },
  "language_info": {
   "codemirror_mode": {
    "name": "ipython",
    "version": 3
   },
   "file_extension": ".py",
   "mimetype": "text/x-python",
   "name": "python",
   "nbconvert_exporter": "python",
   "pygments_lexer": "ipython3",
   "version": "3.6.7"
  },
  "nteract": {
   "version": "0.9.1"
  },
  "varInspector": {
   "cols": {
    "lenName": 16,
    "lenType": 16,
    "lenVar": 40
   },
   "kernels_config": {
    "python": {
     "delete_cmd_postfix": "",
     "delete_cmd_prefix": "del ",
     "library": "var_list.py",
     "varRefreshCmd": "print(var_dic_list())"
    },
    "r": {
     "delete_cmd_postfix": ") ",
     "delete_cmd_prefix": "rm(",
     "library": "var_list.r",
     "varRefreshCmd": "cat(var_dic_list()) "
    }
   },
   "types_to_exclude": [
    "module",
    "function",
    "builtin_function_or_method",
    "instance",
    "_Feature"
   ],
   "window_display": false
  }
 },
 "nbformat": 4,
 "nbformat_minor": 2
}
