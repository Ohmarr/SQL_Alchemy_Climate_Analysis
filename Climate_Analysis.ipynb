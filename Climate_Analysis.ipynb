{
 "cells": [
  {
   "cell_type": "markdown",
   "metadata": {},
   "source": [
    "# Climate Analysis"
   ]
  },
  {
   "cell_type": "code",
   "execution_count": 1,
   "metadata": {},
   "outputs": [],
   "source": [
    "%matplotlib inline\n",
    "from matplotlib import style\n",
    "style.use('fivethirtyeight')\n",
    "import matplotlib.pyplot as plt\n",
    "import numpy as np\n",
    "import pandas as pd\n",
    "import datetime as dt\n",
    "\n",
    "degree_sign= u'\\N{DEGREE SIGN}' #degree symbol to be used for printing;"
   ]
  },
  {
   "cell_type": "markdown",
   "metadata": {},
   "source": [
    "# Reflect Tables into SQLAlchemy ORM"
   ]
  },
  {
   "cell_type": "code",
   "execution_count": 2,
   "metadata": {},
   "outputs": [],
   "source": [
    "# Python SQL toolkit and Object Relational Mapper\n",
    "import sqlalchemy\n",
    "from sqlalchemy.ext.automap import automap_base\n",
    "from sqlalchemy.orm import Session\n",
    "from sqlalchemy import create_engine, func"
   ]
  },
  {
   "cell_type": "code",
   "execution_count": 3,
   "metadata": {},
   "outputs": [
    {
     "data": {
      "text/plain": [
       "['measurement', 'station']"
      ]
     },
     "execution_count": 3,
     "metadata": {},
     "output_type": "execute_result"
    }
   ],
   "source": [
    "# Create enginge connection to sqlite DB, automap into local model, reflect tables, & view classes \n",
    "engine = create_engine(\"sqlite:///Resources/hawaii.sqlite\")\n",
    "Base = automap_base() # reflect an existing database into a new model\n",
    "Base.prepare(engine, reflect=True) # reflect the tables\n",
    "Base.classes.keys() # We can view all of the classes that automap found"
   ]
  },
  {
   "cell_type": "code",
   "execution_count": 4,
   "metadata": {},
   "outputs": [],
   "source": [
    "# References to each table\n",
    "Measurement = Base.classes.measurement\n",
    "Station = Base.classes.station"
   ]
  },
  {
   "cell_type": "code",
   "execution_count": 5,
   "metadata": {},
   "outputs": [],
   "source": [
    "# Create our session (link) from Python to the DB\n",
    "session = Session(engine)"
   ]
  },
  {
   "cell_type": "markdown",
   "metadata": {},
   "source": [
    "# Exploratory Climate Analysis"
   ]
  },
  {
   "cell_type": "code",
   "execution_count": 30,
   "metadata": {},
   "outputs": [
    {
     "name": "stdout",
     "output_type": "stream",
     "text": [
      "The earliest date with available data is ('2010-01-01',) & the latest date is ('2017-08-23',)\n"
     ]
    }
   ],
   "source": [
    "last_date = session.query(Measurement.date).\\\n",
    "            order_by(Measurement.date.desc()).\\\n",
    "            first()\n",
    "first_date = session.query(Measurement.date).\\\n",
    "            order_by(Measurement.date.asc()).\\\n",
    "            first()\n",
    "\n",
    "print(f'The earliest date with available data is {first_date} & the latest date is {last_date_pretty}') #last date available in our DB; "
   ]
  },
  {
   "cell_type": "code",
   "execution_count": 7,
   "metadata": {},
   "outputs": [
    {
     "name": "stderr",
     "output_type": "stream",
     "text": [
      "/Users/Omar/anaconda3/envs/pythonomy/lib/python3.6/site-packages/ipykernel_launcher.py:17: FutureWarning: 'date' is both an index level and a column label.\n",
      "Defaulting to column, but this will raise an ambiguity error in a future version\n"
     ]
    },
    {
     "data": {
      "text/plain": [
       "<matplotlib.axes._subplots.AxesSubplot at 0x113f769e8>"
      ]
     },
     "execution_count": 7,
     "metadata": {},
     "output_type": "execute_result"
    },
    {
     "data": {
      "image/png": "[encoded data removed]",
      "text/plain": [
       "<Figure size 432x288 with 1 Axes>"
      ]
     },
     "metadata": {
      "needs_background": "light"
     },
     "output_type": "display_data"
    }
   ],
   "source": [
    "# Design a query to retrieve the last 12 months of precipitation data and plot the results. \n",
    "#Starting from the last data point in the database. \n",
    "\n",
    "# Calculate the date one year from the last date in data set.\n",
    "prev_year = dt.date(2017, 8, 23) - dt.timedelta(days=365)\n",
    "\n",
    "# Perform a query to retrieve the data and precipitation scores\n",
    "results = session.query(Measurement.date, Measurement.prcp).\\\n",
    "          filter(Measurement.date >= prev_year).\\\n",
    "          all()\n",
    "\n",
    "# Save the query results as a Pandas DataFrame and set the index to the date column\n",
    "final_year_df = pd.DataFrame(results, columns=['date', 'precipitation'])\n",
    "final_year_df.set_index(final_year_df['date'], inplace=True)\n",
    "\n",
    "# Sort the dataframe by date\n",
    "final_year_df = final_year_df.sort_values('date')\n",
    "\n",
    "# Use Pandas Plotting with Matplotlib to plot the data\n",
    "final_year_df.plot(x_compat=True)\n"
   ]
  },
  {
   "cell_type": "code",
   "execution_count": 8,
   "metadata": {},
   "outputs": [
    {
     "data": {
      "text/html": [
       "<div>\n",
       "<style scoped>\n",
       "    .dataframe tbody tr th:only-of-type {\n",
       "        vertical-align: middle;\n",
       "    }\n",
       "\n",
       "    .dataframe tbody tr th {\n",
       "        vertical-align: top;\n",
       "    }\n",
       "\n",
       "    .dataframe thead th {\n",
       "        text-align: right;\n",
       "    }\n",
       "</style>\n",
       "<table border=\"1\" class=\"dataframe\">\n",
       "  <thead>\n",
       "    <tr style=\"text-align: right;\">\n",
       "      <th></th>\n",
       "      <th>precipitation</th>\n",
       "    </tr>\n",
       "  </thead>\n",
       "  <tbody>\n",
       "    <tr>\n",
       "      <th>count</th>\n",
       "      <td>2021.000000</td>\n",
       "    </tr>\n",
       "    <tr>\n",
       "      <th>mean</th>\n",
       "      <td>0.177279</td>\n",
       "    </tr>\n",
       "    <tr>\n",
       "      <th>std</th>\n",
       "      <td>0.461190</td>\n",
       "    </tr>\n",
       "    <tr>\n",
       "      <th>min</th>\n",
       "      <td>0.000000</td>\n",
       "    </tr>\n",
       "    <tr>\n",
       "      <th>25%</th>\n",
       "      <td>0.000000</td>\n",
       "    </tr>\n",
       "    <tr>\n",
       "      <th>50%</th>\n",
       "      <td>0.020000</td>\n",
       "    </tr>\n",
       "    <tr>\n",
       "      <th>75%</th>\n",
       "      <td>0.130000</td>\n",
       "    </tr>\n",
       "    <tr>\n",
       "      <th>max</th>\n",
       "      <td>6.700000</td>\n",
       "    </tr>\n",
       "  </tbody>\n",
       "</table>\n",
       "</div>"
      ],
      "text/plain": [
       "       precipitation\n",
       "count    2021.000000\n",
       "mean        0.177279\n",
       "std         0.461190\n",
       "min         0.000000\n",
       "25%         0.000000\n",
       "50%         0.020000\n",
       "75%         0.130000\n",
       "max         6.700000"
      ]
     },
     "execution_count": 8,
     "metadata": {},
     "output_type": "execute_result"
    }
   ],
   "source": [
    "# Use Pandas to calcualte the summary statistics for the precipitation data\n",
    "final_year_df.describe()"
   ]
  },
  {
   "cell_type": "code",
   "execution_count": 20,
   "metadata": {},
   "outputs": [
    {
     "name": "stdout",
     "output_type": "stream",
     "text": [
      "There are 9 different stations\n"
     ]
    }
   ],
   "source": [
    "# Design a query to show how many stations are available in this dataset?\n",
    "#session.query(Station).count()\n",
    "number_of_locations = session.query(Station).\\\n",
    "                      group_by(Station.station).\\\n",
    "                      count()\n",
    "print(f'There are {number_of_locations} different stations')"
   ]
  },
  {
   "cell_type": "code",
   "execution_count": 10,
   "metadata": {},
   "outputs": [
    {
     "data": {
      "text/plain": [
       "[('USC00519281', 2772),\n",
       " ('USC00519397', 2724),\n",
       " ('USC00513117', 2709),\n",
       " ('USC00519523', 2669),\n",
       " ('USC00516128', 2612),\n",
       " ('USC00514830', 2202),\n",
       " ('USC00511918', 1979),\n",
       " ('USC00517948', 1372),\n",
       " ('USC00518838', 511)]"
      ]
     },
     "execution_count": 10,
     "metadata": {},
     "output_type": "execute_result"
    }
   ],
   "source": [
    "# What are the most active stations? (i.e. what stations have the most rows)?\n",
    "# List the stations and the counts in descending order.\n",
    "\n",
    "active_stations = session.query(Station.station, func.count(Measurement.station).label('actives')).\\\n",
    "                  filter(Station.station == Measurement.station).\\\n",
    "                  group_by(Station.station).\\\n",
    "                  order_by(func.count(Measurement.station).desc()).\\\n",
    "                  all()\n",
    "active_stations"
   ]
  },
  {
   "cell_type": "code",
   "execution_count": 19,
   "metadata": {},
   "outputs": [
    {
     "name": "stdout",
     "output_type": "stream",
     "text": [
      "The most active station is USC00519281\n"
     ]
    }
   ],
   "source": [
    "first_station = active_stations[0].station\n",
    "print(f'The most active station is {first_station}')"
   ]
  },
  {
   "cell_type": "code",
   "execution_count": 13,
   "metadata": {},
   "outputs": [
    {
     "name": "stdout",
     "output_type": "stream",
     "text": [
      "Most Active Station: USC00519281\n",
      "––––––––––––––––––––––––––––––\n",
      "Temperature Statistics:\n",
      " Minimum: 54.0°F,\n",
      " Maximum: 71.7°F,\n",
      " Average: 85.0°F.\n",
      "––––––––––––––––––––––––––––––\n"
     ]
    }
   ],
   "source": [
    "# Using the station id from the previous query, calculate the lowest temperature recorded, \n",
    "# highest temperature recorded, and average temperature most active station?\n",
    "most_active_station_sel = [func.min(Measurement.tobs), \n",
    "                          func.max(Measurement.tobs),\n",
    "                          func.avg(Measurement.tobs)]\n",
    "\n",
    "most_active_station_query = session.query(*most_active_station_sel).\\\n",
    "                            filter(Measurement.station == first_station).\\\n",
    "                            all()\n",
    "most_active_station_results = list(np.ravel(most_active_station_query)) #ravel will flatten 2x2 to 1 dimension; \n",
    "most_active_station_results\n",
    "\n",
    "print(f'Most Active Station: {first_station}')\n",
    "print('–'*30)\n",
    "print(f'Temperature Statistics:\\n\\\n",
    " Minimum: {most_active_station_query[0][0]}{degree_sign}F,\\n\\\n",
    " Maximum: {round(most_active_station_query[0][2], 1)}{degree_sign}F,\\n\\\n",
    " Average: {most_active_station_query[0][1]}{degree_sign}F.')\n",
    "print('–'*30)"
   ]
  },
  {
   "cell_type": "code",
   "execution_count": 14,
   "metadata": {},
   "outputs": [
    {
     "data": {
      "text/html": [
       "<div>\n",
       "<style scoped>\n",
       "    .dataframe tbody tr th:only-of-type {\n",
       "        vertical-align: middle;\n",
       "    }\n",
       "\n",
       "    .dataframe tbody tr th {\n",
       "        vertical-align: top;\n",
       "    }\n",
       "\n",
       "    .dataframe thead th {\n",
       "        text-align: right;\n",
       "    }\n",
       "</style>\n",
       "<table border=\"1\" class=\"dataframe\">\n",
       "  <thead>\n",
       "    <tr style=\"text-align: right;\">\n",
       "      <th></th>\n",
       "      <th>tobs</th>\n",
       "    </tr>\n",
       "    <tr>\n",
       "      <th>precipitation</th>\n",
       "      <th></th>\n",
       "    </tr>\n",
       "  </thead>\n",
       "  <tbody>\n",
       "    <tr>\n",
       "      <th>0.00</th>\n",
       "      <td>2016-08-302016-09-282016-10-062016-10-072016-1...</td>\n",
       "    </tr>\n",
       "    <tr>\n",
       "      <th>0.01</th>\n",
       "      <td>2016-08-262016-09-022016-09-192016-09-242016-1...</td>\n",
       "    </tr>\n",
       "    <tr>\n",
       "      <th>0.02</th>\n",
       "      <td>2016-09-012016-10-182016-10-232016-12-102016-1...</td>\n",
       "    </tr>\n",
       "    <tr>\n",
       "      <th>0.03</th>\n",
       "      <td>2016-09-052016-09-252016-10-042016-10-122016-1...</td>\n",
       "    </tr>\n",
       "    <tr>\n",
       "      <th>0.04</th>\n",
       "      <td>2016-10-152016-12-042016-12-132017-02-282017-0...</td>\n",
       "    </tr>\n",
       "  </tbody>\n",
       "</table>\n",
       "</div>"
      ],
      "text/plain": [
       "                                                            tobs\n",
       "precipitation                                                   \n",
       "0.00           2016-08-302016-09-282016-10-062016-10-072016-1...\n",
       "0.01           2016-08-262016-09-022016-09-192016-09-242016-1...\n",
       "0.02           2016-09-012016-10-182016-10-232016-12-102016-1...\n",
       "0.03           2016-09-052016-09-252016-10-042016-10-122016-1...\n",
       "0.04           2016-10-152016-12-042016-12-132017-02-282017-0..."
      ]
     },
     "execution_count": 14,
     "metadata": {},
     "output_type": "execute_result"
    }
   ],
   "source": [
    "# Choose the station with the highest number of temperature observations.\n",
    "# Query the last 12 months of temperature observation data for this station and plot the results as a histogram\n",
    "\n",
    "# Perform a query to retrieve the data and precipitation scores\n",
    "results = session.query(Measurement.date, Measurement.prcp).\\\n",
    "          filter(Measurement.date >= prev_year).\\\n",
    "          filter(Measurement.station == first_station).\\\n",
    "          all()\n",
    "\n",
    "# Save the query results as a Pandas DataFrame and set the index to the date column\n",
    "final_year_df = pd.DataFrame(results, columns=['tobs', 'precipitation'])\n",
    "#final_year_df.set_index(final_year_df['tobs'], inplace=True)\n",
    "new_df = final_year_df.groupby(['precipitation']).agg({'tobs': sum})\n",
    "\n",
    "#new_df = new_df.groupby(['precipitation'])\n",
    "\n",
    "new_df.head()"
   ]
  },
  {
   "cell_type": "code",
   "execution_count": 15,
   "metadata": {},
   "outputs": [],
   "source": [
    "# Choose the station with the highest number of temperature observations.\n",
    "# Query the last 12 months of temperature observation data for this station and plot the results as a histogram\n"
   ]
  },
  {
   "cell_type": "markdown",
   "metadata": {},
   "source": [
    "![precipitation](Images/station-histogram.png)"
   ]
  },
  {
   "cell_type": "markdown",
   "metadata": {},
   "source": [
    "### <center> Function: 'calc_temps' </center>\n",
    "#### <center> Takes start & end dates as arguments & returns statistics on date range </center>"
   ]
  },
  {
   "cell_type": "code",
   "execution_count": 16,
   "metadata": {},
   "outputs": [
    {
     "name": "stdout",
     "output_type": "stream",
     "text": [
      "[(62.0, 69.57142857142857, 74.0)]\n"
     ]
    }
   ],
   "source": [
    "# The `calc_temps` functions accepts start & end dates in the format '%Y-%m-%d' & returns statistics on date range\n",
    "def calc_temps(start_date, end_date):\n",
    "    \"\"\"\n",
    "    Arguments:    start_date (string): A date string in the format %Y-%m-%d\n",
    "                  end_date (string): A date string in the format %Y-%m-%d\n",
    "    Returns:      TMIN, TAVE, and TMAX\n",
    "    \"\"\"\n",
    "    \n",
    "    return session.query(func.min(Measurement.tobs), \n",
    "                         func.avg(Measurement.tobs), \n",
    "                         func.max(Measurement.tobs)).\\\n",
    "                         filter(Measurement.date >= start_date).\\\n",
    "                         filter(Measurement.date <= end_date).\\\n",
    "                         all()\n",
    "\n",
    "# function usage example\n",
    "print(calc_temps('2012-02-28', '2012-03-05'))"
   ]
  },
  {
   "cell_type": "markdown",
   "metadata": {},
   "source": [
    "### <center> Expected Temperature Calculation </center>\n",
    "#### <center> Based on previous year's data </center>"
   ]
  },
  {
   "cell_type": "code",
   "execution_count": 17,
   "metadata": {},
   "outputs": [
    {
     "name": "stdout",
     "output_type": "stream",
     "text": [
      "Let's determine the temperatures that can be expected during the trip to Hawaii\n",
      "\n",
      "\n",
      "––––––––––––––––––––––––––––––\n",
      "What Month? 02\n",
      "What day? 20\n",
      "What year? 2012\n",
      "How many days will you stay? 7\n",
      "––––––––––––––––––––––––––––––\n",
      "Expected Trip Duration: 2-20-2012 through 02-27-2012\n",
      "––––––––––––––––––––––––––––––\n",
      "Expected Temperatures:\n",
      " Minimum: 63.0°F,\n",
      " Maximum: 78.0°F,\n",
      " Average: 70.55°F.\n",
      "––––––––––––––––––––––––––––––\n"
     ]
    }
   ],
   "source": [
    "# * Use the `calc_temps` function to get the min, avg, & max temps for trip duration using previous year data\n",
    "# –––––––––––––––––––––––––––––––––––––– User Input –––––––––––––––––––––––––––––––––––––– #\n",
    "\n",
    "print(\"Let's determine the temperatures that can be expected during the trip to Hawaii\\n\\n\")\n",
    "print('–'*30)\n",
    "month = int(input(\"What Month? \" ))\n",
    "day = int(input(\"What day? \" ))\n",
    "year = int(input(\"What year? \"))\n",
    "duration = int(input(\"How many days will you stay? \"))\n",
    "print('–'*30)\n",
    "\n",
    "# –––––––––––––––––––––––––––––––––––––– Calculations –––––––––––––––––––––––––––––––––––––– #\n",
    "\n",
    "trip_start_date = str(year) + '–' + str(month) + '-' + str(day) \n",
    "pretty_trip_start_date = str(month) + '-' + str(day) + '-' + str(year)\n",
    "\n",
    "previous_year_trip_start = dt.date(year, month, day) - dt.timedelta(days=365) #previous year initial date\n",
    "previous_year_trip_start_string = previous_year_trip_start.strftime('%Y-%m-%d') #needed for 'calc' function\n",
    "\n",
    "trip_end_date = dt.date(year, month, day) + dt.timedelta(days=duration) # start date + duration\n",
    "trip_end_date_string = trip_end_date.strftime('%m-%d-%Y') #for printing\n",
    "\n",
    "\n",
    "previous_year_trip_end = trip_end_date - dt.timedelta(days=365) #previous year final date\n",
    "previous_year_trip_end_string = previous_year_trip_end.strftime('%Y-%m-%d') #needed for 'calc' function;\n",
    "\n",
    "expected_temps = calc_temps(previous_year_trip_start_string, previous_year_trip_end_string)\n",
    "\n",
    "# –––––––––––––––––––––––––––––––––––––– Printing Results –––––––––––––––––––––––––––––––––––––– #\n",
    "\n",
    "min_expected_temp = expected_temps[0][0]\n",
    "avg_expected_temp = round(expected_temps[0][1], 2)\n",
    "max_expected_temp = expected_temps[0][2]\n",
    "\n",
    "print(f'Expected Trip Duration: {pretty_trip_start_date} through {trip_end_date_string}')\n",
    "print('–'*30)\n",
    "print(f'Expected Temperatures:\\n\\\n",
    " Minimum: {min_expected_temp}{degree_sign}F,\\n\\\n",
    " Maximum: {max_expected_temp}{degree_sign}F,\\n\\\n",
    " Average: {avg_expected_temp}{degree_sign}F.')\n",
    "print('–'*30)"
   ]
  },
  {
   "cell_type": "code",
   "execution_count": 18,
   "metadata": {},
   "outputs": [
    {
     "data": {
      "image/png": "[encoded data removed]",
      "text/plain": [
       "<Figure size 432x288 with 1 Axes>"
      ]
     },
     "metadata": {
      "needs_background": "light"
     },
     "output_type": "display_data"
    }
   ],
   "source": [
    "#BOXPLOTS\n",
    "\n",
    "boxplotarrray = np.array([min_expected_temp, avg_expected_temp, max_expected_temp])\n",
    "#q1 = np.percentile(boxplotarrray, 25)\n",
    "#q3 = np.percentile(boxplotarrray, 75) \n",
    "# qs = np.percentile(boxplotarrray, [25, 75])\n",
    "# q1 = qs[0]\n",
    "# q3 = qs[1]\n",
    "# iqr = (q3 - q1)\n",
    "\n",
    "# lwb = q1 - 1.5*iqr\n",
    "# upb = q3 + 1.5*iqr\n",
    "\n",
    "# boxplotarrray[boxplotarrray <= lwb] #below lower bound?\n",
    "# boxplotarrray[boxplotarrray >= upb] #above upper bound?\n",
    "\n",
    "\n",
    "plt.boxplot(boxplotarrray, showmeans=True)\n",
    "plt.grid()\n",
    "plt.show()"
   ]
  },
  {
   "cell_type": "code",
   "execution_count": null,
   "metadata": {},
   "outputs": [],
   "source": [
    "# Plot the results from your previous query as a bar chart. \n",
    "# Use \"Trip Avg Temp\" as your Title\n",
    "# Use the average temperature for the y value\n",
    "# Use the peak-to-peak (tmax-tmin) value as the y error bar (yerr)\n"
   ]
  },
  {
   "cell_type": "code",
   "execution_count": null,
   "metadata": {},
   "outputs": [],
   "source": [
    "# Calculate the rainfall per weather station for your trip dates using the previous year's matching dates.\n",
    "# Sort this in descending order by precipitation amount and list the station, name, latitude, longitude, and elevation\n",
    "\n"
   ]
  },
  {
   "cell_type": "markdown",
   "metadata": {},
   "source": [
    "## Optional Challenge Assignment"
   ]
  },
  {
   "cell_type": "code",
   "execution_count": null,
   "metadata": {},
   "outputs": [],
   "source": [
    "# Create a query that will calculate the daily normals \n",
    "# (i.e. the averages for tmin, tmax, and tavg for all historic data matching a specific month and day)\n",
    "\n",
    "def daily_normals(date):\n",
    "    \"\"\"Daily Normals.\n",
    "    \n",
    "    Args:\n",
    "        date (str): A date string in the format '%m-%d'\n",
    "        \n",
    "    Returns:\n",
    "        A list of tuples containing the daily normals, tmin, tavg, and tmax\n",
    "    \n",
    "    \"\"\"\n",
    "    \n",
    "    sel = [func.min(Measurement.tobs), func.avg(Measurement.tobs), func.max(Measurement.tobs)]\n",
    "    return session.query(*sel).filter(func.strftime(\"%m-%d\", Measurement.date) == date).all()\n",
    "    \n",
    "daily_normals(\"01-01\")"
   ]
  },
  {
   "cell_type": "code",
   "execution_count": null,
   "metadata": {},
   "outputs": [],
   "source": [
    "# calculate the daily normals for your trip\n",
    "# push each tuple of calculations into a list called `normals`\n",
    "\n",
    "# Set the start and end date of the trip\n",
    "\n",
    "# Use the start and end date to create a range of dates\n",
    "\n",
    "# Stip off the year and save a list of %m-%d strings\n",
    "\n",
    "# Loop through the list of %m-%d strings and calculate the normals for each date\n"
   ]
  },
  {
   "cell_type": "code",
   "execution_count": null,
   "metadata": {},
   "outputs": [],
   "source": [
    "# Load the previous query results into a Pandas DataFrame and add the `trip_dates` range as the `date` index\n"
   ]
  },
  {
   "cell_type": "code",
   "execution_count": null,
   "metadata": {},
   "outputs": [],
   "source": [
    "# Plot the daily normals as an area plot with `stacked=False`\n"
   ]
  }
 ],
 "metadata": {
  "kernel_info": {
   "name": "python3"
  },
  "kernelspec": {
   "display_name": "Pythonomy",
   "language": "python",
   "name": "pythonomy"
  },
  "language_info": {
   "codemirror_mode": {
    "name": "ipython",
    "version": 3
   },
   "file_extension": ".py",
   "mimetype": "text/x-python",
   "name": "python",
   "nbconvert_exporter": "python",
   "pygments_lexer": "ipython3",
   "version": "3.6.7"
  },
  "nteract": {
   "version": "0.9.1"
  },
  "varInspector": {
   "cols": {
    "lenName": 16,
    "lenType": 16,
    "lenVar": 40
   },
   "kernels_config": {
    "python": {
     "delete_cmd_postfix": "",
     "delete_cmd_prefix": "del ",
     "library": "var_list.py",
     "varRefreshCmd": "print(var_dic_list())"
    },
    "r": {
     "delete_cmd_postfix": ") ",
     "delete_cmd_prefix": "rm(",
     "library": "var_list.r",
     "varRefreshCmd": "cat(var_dic_list()) "
    }
   },
   "types_to_exclude": [
    "module",
    "function",
    "builtin_function_or_method",
    "instance",
    "_Feature"
   ],
   "window_display": false
  }
 },
 "nbformat": 4,
 "nbformat_minor": 2
}
